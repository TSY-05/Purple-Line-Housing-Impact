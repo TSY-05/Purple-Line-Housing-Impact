{
 "cells": [
  {
   "cell_type": "markdown",
   "metadata": {},
   "source": [
    "# Purple Line Impact on Property Value\n",
    "\n",
    "This notebook explores the economic impact of Maryland's Purple Line construction on nearby housing prices."
   ]
  },
  {
   "cell_type": "code",
   "execution_count": null,
   "metadata": {},
   "outputs": [],
   "source": [
    "import pandas as pd\n",
    "import matplotlib.pyplot as plt\n",
    "import numpy as np\n",
    "\n",
    "# Simulate housing prices from 2016 to 2023\n",
    "np.random.seed(42)\n",
    "years = np.arange(2016, 2024)\n",
    "close_prices = [280000 + 4000*i + np.random.normal(0, 10000) for i in range(len(years))]\n",
    "far_prices = [260000 + 3000*i + np.random.normal(0, 10000) for i in range(len(years))]\n",
    "\n",
    "# Create DataFrame\n",
    "df = pd.DataFrame({\n",
    "    'Year': years,\n",
    "    'Close_to_PurpleLine': close_prices,\n",
    "    'Far_from_PurpleLine': far_prices\n",
    "})\n",
    "\n",
    "# Plot\n",
    "plt.figure(figsize=(10, 6))\n",
    "plt.plot(df['Year'], df['Close_to_PurpleLine'], marker='o', label='Near Purple Line Stations')\n",
    "plt.plot(df['Year'], df['Far_from_PurpleLine'], marker='o', label='Far from Purple Line')\n",
    "plt.axvline(2020, color='gray', linestyle='--', label='Purple Line Construction Starts')\n",
    "plt.title('Housing Prices Before and After Purple Line Construction')\n",
    "plt.xlabel('Year')\n",
    "plt.ylabel('Average Housing Price ($)')\n",
    "plt.legend()\n",
    "plt.grid(True)\n",
    "plt.tight_layout()\n",
    "plt.savefig('housing_price_impact.png')\n",
    "plt.show()"
   ]
  }
 ],
 "metadata": {
  "kernelspec": {
   "display_name": "Python 3",
   "language": "python",
   "name": "python3"
  },
  "language_info": {
   "name": "python",
   "version": "3.8"
  }
 },
 "nbformat": 4,
 "nbformat_minor": 5
}